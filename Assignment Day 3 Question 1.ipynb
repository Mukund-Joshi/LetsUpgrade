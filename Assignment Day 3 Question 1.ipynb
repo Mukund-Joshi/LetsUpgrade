{
 "cells": [
  {
   "cell_type": "markdown",
   "metadata": {},
   "source": [
    "# Question 1\n",
    "You all are Pilots, you want to land a plane safely, so altitude required for landing a plane is\n",
    "1000ft, it it is less than tell pilot to land the plane, or it is more than that but less than 5000ft ask\n",
    "the pilot to “come down to 1000ft”, else if it more than 5000ft ask the pilot to “go around and try\n",
    "later”"
   ]
  },
  {
   "cell_type": "code",
   "execution_count": 21,
   "metadata": {},
   "outputs": [
    {
     "name": "stdout",
     "output_type": "stream",
     "text": [
      "Enter your current altitude - 1552\n",
      "\n",
      "Please reduce your altitude to 1000.\n"
     ]
    }
   ],
   "source": [
    "alt=input(\"Enter your current altitude - \")\n",
    "alt=int(alt)\n",
    "\n",
    "if alt<=1000:\n",
    "    print(\"\\nYou are allowed to land safely.\")\n",
    "elif alt<=5000:\n",
    "    print(\"\\nPlease reduce your altitude to 1000.\")\n",
    "else:\n",
    "    print(\"\\nAfter lowering the altitude try again later.\")"
   ]
  }
 ],
 "metadata": {
  "kernelspec": {
   "display_name": "Python 3",
   "language": "python",
   "name": "python3"
  },
  "language_info": {
   "codemirror_mode": {
    "name": "ipython",
    "version": 3
   },
   "file_extension": ".py",
   "mimetype": "text/x-python",
   "name": "python",
   "nbconvert_exporter": "python",
   "pygments_lexer": "ipython3",
   "version": "3.8.3"
  }
 },
 "nbformat": 4,
 "nbformat_minor": 4
}
