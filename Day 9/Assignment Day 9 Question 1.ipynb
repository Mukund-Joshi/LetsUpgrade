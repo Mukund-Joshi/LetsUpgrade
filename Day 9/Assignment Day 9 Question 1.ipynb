{
 "cells": [
  {
   "cell_type": "markdown",
   "metadata": {},
   "source": [
    "# Question 1\n",
    "Write a python Function for finding is a given number prime or not and do Unit Testing on it using\n",
    "PyLint and Unittest Library. "
   ]
  },
  {
   "cell_type": "code",
   "execution_count": 1,
   "metadata": {},
   "outputs": [
    {
     "name": "stdout",
     "output_type": "stream",
     "text": [
      "Requirement already satisfied: pylint in c:\\users\\mukund a joshi\\anaconda3\\lib\\site-packages (2.5.3)\n",
      "Requirement already satisfied: mccabe<0.7,>=0.6 in c:\\users\\mukund a joshi\\anaconda3\\lib\\site-packages (from pylint) (0.6.1)\n",
      "Requirement already satisfied: astroid<=2.5,>=2.4.0 in c:\\users\\mukund a joshi\\anaconda3\\lib\\site-packages (from pylint) (2.4.2)\n",
      "Requirement already satisfied: colorama; sys_platform == \"win32\" in c:\\users\\mukund a joshi\\anaconda3\\lib\\site-packages (from pylint) (0.4.3)\n",
      "Requirement already satisfied: toml>=0.7.1 in c:\\users\\mukund a joshi\\anaconda3\\lib\\site-packages (from pylint) (0.10.1)\n",
      "Requirement already satisfied: isort<5,>=4.2.5 in c:\\users\\mukund a joshi\\anaconda3\\lib\\site-packages (from pylint) (4.3.21)\n",
      "Requirement already satisfied: wrapt~=1.11 in c:\\users\\mukund a joshi\\anaconda3\\lib\\site-packages (from astroid<=2.5,>=2.4.0->pylint) (1.11.2)\n",
      "Requirement already satisfied: lazy-object-proxy==1.4.* in c:\\users\\mukund a joshi\\anaconda3\\lib\\site-packages (from astroid<=2.5,>=2.4.0->pylint) (1.4.3)\n",
      "Requirement already satisfied: six~=1.12 in c:\\users\\mukund a joshi\\anaconda3\\lib\\site-packages (from astroid<=2.5,>=2.4.0->pylint) (1.15.0)\n"
     ]
    }
   ],
   "source": [
    "! pip install pylint"
   ]
  },
  {
   "cell_type": "code",
   "execution_count": 2,
   "metadata": {},
   "outputs": [
    {
     "name": "stdout",
     "output_type": "stream",
     "text": [
      "Overwriting primecheck.py\n"
     ]
    }
   ],
   "source": [
    "%%writefile primecheck.py\n",
    "'''\n",
    "It is a prime number checking program file\n",
    "'''\n",
    "def primeornot(num):\n",
    "    '''\n",
    "    This function checks whether given number is prime or not\n",
    "    '''\n",
    "    if num in (0, 1):\n",
    "        return \"Invalid Number\"\n",
    "    for i in range(2, num):\n",
    "        if num%i == 0:\n",
    "            return \"It is not a Prime Number\"\n",
    "    return \"It is a Prime Number\""
   ]
  },
  {
   "cell_type": "code",
   "execution_count": 3,
   "metadata": {},
   "outputs": [
    {
     "name": "stdout",
     "output_type": "stream",
     "text": [
      "\n",
      "--------------------------------------------------------------------\n",
      "\n",
      "Your code has been rated at 10.00/10 (previous run: 10.00/10, +0.00)\n",
      "\n",
      "\n",
      "\n"
     ]
    }
   ],
   "source": [
    "! pylint \"primecheck.py\""
   ]
  },
  {
   "cell_type": "code",
   "execution_count": 4,
   "metadata": {},
   "outputs": [
    {
     "data": {
      "text/plain": [
       "'It is a Prime Number'"
      ]
     },
     "execution_count": 4,
     "metadata": {},
     "output_type": "execute_result"
    }
   ],
   "source": [
    "import primecheck\n",
    "primecheck.primeornot(17)"
   ]
  },
  {
   "cell_type": "code",
   "execution_count": 5,
   "metadata": {},
   "outputs": [
    {
     "name": "stdout",
     "output_type": "stream",
     "text": [
      "Overwriting testPrime.py\n"
     ]
    }
   ],
   "source": [
    "%%writefile testPrime.py\n",
    "\n",
    "import unittest\n",
    "import primecheck\n",
    "\n",
    "class testPrime(unittest.TestCase):\n",
    "    def testnumberprime(self):\n",
    "        x = 17\n",
    "        result = primecheck.primeornot(x)\n",
    "        self.assertEquals(result, \"It is a Prime Number\")\n",
    "\n",
    "if __name__ == \"__main__\":\n",
    "    unittest.main()"
   ]
  },
  {
   "cell_type": "code",
   "execution_count": 6,
   "metadata": {},
   "outputs": [
    {
     "name": "stderr",
     "output_type": "stream",
     "text": [
      "testPrime.py:9: DeprecationWarning: Please use assertEqual instead.\n",
      "  self.assertEquals(result, \"It is a Prime Number\")\n",
      ".\n",
      "----------------------------------------------------------------------\n",
      "Ran 1 test in 0.000s\n",
      "\n",
      "OK\n"
     ]
    }
   ],
   "source": [
    "! python testPrime.py"
   ]
  }
 ],
 "metadata": {
  "kernelspec": {
   "display_name": "Python 3",
   "language": "python",
   "name": "python3"
  },
  "language_info": {
   "codemirror_mode": {
    "name": "ipython",
    "version": 3
   },
   "file_extension": ".py",
   "mimetype": "text/x-python",
   "name": "python",
   "nbconvert_exporter": "python",
   "pygments_lexer": "ipython3",
   "version": "3.8.3"
  }
 },
 "nbformat": 4,
 "nbformat_minor": 4
}
