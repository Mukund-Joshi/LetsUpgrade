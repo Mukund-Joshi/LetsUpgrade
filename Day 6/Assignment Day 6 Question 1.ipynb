{
 "cells": [
  {
   "cell_type": "markdown",
   "metadata": {},
   "source": [
    "# Question 1\n",
    "For this challenge,create a bank account class that has two attributes\n",
    "\n",
    "*ownerName\n",
    "\n",
    "*Balance\n",
    "\n",
    "And two methods\n",
    "\n",
    "*deposit\n",
    "\n",
    "*withdraw\n",
    "\n",
    "As an added requirement,withdrawals may not exceed the available balance.\n",
    "Instantiate your class,make several deposits and withdrawals,and test to make sure the account\n",
    "cant be overdrawn."
   ]
  },
  {
   "cell_type": "code",
   "execution_count": 1,
   "metadata": {},
   "outputs": [],
   "source": [
    "class bankaccount():\n",
    "    def __init__(self,ownerName,balance):\n",
    "        self.ownerName = ownerName\n",
    "        self.balance = balance\n",
    "    \n",
    "    def deposit(self):\n",
    "        dep = input(\"\\nEnter amount to deposite Rs \")\n",
    "        dep=int(dep)\n",
    "        self.balance += dep\n",
    "        print(\"\\nRs.\",dep,\"deposited in account\")\n",
    "        print(\"\\nAvailable balance Rs \",self.balance)\n",
    "    \n",
    "    def withdraw(self):\n",
    "        draw = input(\"\\nEnter amount to Withdraw Rs \")\n",
    "        draw=int(draw)\n",
    "        while not (draw<=self.balance):\n",
    "            print(\"\\nAvailable balance to withdraw Rs \",self.balance)\n",
    "            draw = int(input(\"\\nEnter valid amount to Withdraw Rs \"))\n",
    "        else:\n",
    "            self.balance -= draw\n",
    "            print(\"\\nRs.\",draw,\"withdrawn from your account\")\n",
    "            print(\"\\nAvailable balance Rs \",self.balance)"
   ]
  },
  {
   "cell_type": "code",
   "execution_count": 2,
   "metadata": {},
   "outputs": [],
   "source": [
    "Mukund = bankaccount(\"Mukund Joshi\",4000)"
   ]
  },
  {
   "cell_type": "code",
   "execution_count": 3,
   "metadata": {},
   "outputs": [
    {
     "name": "stdout",
     "output_type": "stream",
     "text": [
      "\n",
      "Enter amount to deposite Rs 4000\n",
      "\n",
      "Rs. 4000 deposited in account\n",
      "\n",
      "Available balance Rs  8000\n"
     ]
    }
   ],
   "source": [
    "Mukund.deposit()"
   ]
  },
  {
   "cell_type": "code",
   "execution_count": 4,
   "metadata": {},
   "outputs": [
    {
     "name": "stdout",
     "output_type": "stream",
     "text": [
      "\n",
      "Enter amount to Withdraw Rs 4000\n",
      "\n",
      "Rs. 4000 withdrawn from your account\n",
      "\n",
      "Available balance Rs  4000\n"
     ]
    }
   ],
   "source": [
    "Mukund.withdraw()"
   ]
  },
  {
   "cell_type": "code",
   "execution_count": null,
   "metadata": {},
   "outputs": [],
   "source": []
  }
 ],
 "metadata": {
  "kernelspec": {
   "display_name": "Python 3",
   "language": "python",
   "name": "python3"
  },
  "language_info": {
   "codemirror_mode": {
    "name": "ipython",
    "version": 3
   },
   "file_extension": ".py",
   "mimetype": "text/x-python",
   "name": "python",
   "nbconvert_exporter": "python",
   "pygments_lexer": "ipython3",
   "version": "3.8.3"
  }
 },
 "nbformat": 4,
 "nbformat_minor": 4
}
