{
 "cells": [
  {
   "cell_type": "markdown",
   "metadata": {},
   "source": [
    "# Question 2\n",
    "For this challenge,create a cone class that has two attributes:\n",
    "\n",
    "*R=Radius\n",
    "\n",
    "*h=Height\n",
    "\n",
    "\n",
    "\n",
    "\n",
    "And two methods:\n",
    "\n",
    "*Volume = Π * r2 * (h/3)\n",
    "\n",
    "*Surface area : base : Π * r2 , side : Π * r * √(r2 + h2)\n",
    "\n",
    "Make only one class with functions,as in where required import Math."
   ]
  },
  {
   "cell_type": "code",
   "execution_count": 85,
   "metadata": {},
   "outputs": [],
   "source": [
    "class cone():\n",
    "    def __init__(self,Radius,Height):\n",
    "        self.Radius=Radius\n",
    "        self.Height=Height\n",
    "        \n",
    "    def volume(self):\n",
    "        v=3.14*self.Radius*self.Radius*(self.Height/3)\n",
    "        print(\"\\nVolume of cone is\",v,\"units.\")\n",
    "        \n",
    "    def surfacearea(self):\n",
    "        import math\n",
    "        sa=input(\"Which Surface area do you want? \\n1. Base \\n2. Side \\n3. Total \\nEnter 1, 2 or 3 - \")\n",
    "        sa=int(sa)\n",
    "        while (sa!=1 and sa!=2 and sa!=3):\n",
    "            sa=int(input(\"Please enter valid option among 1, 2 & 3 - \"))\n",
    "        else:\n",
    "            if(sa==1):\n",
    "                SAB=3.14*self.Radius*self.Radius\n",
    "                print(\"\\nSurface area of base of cone is\",SAB,\"units.\")\n",
    "            elif(sa==2):\n",
    "                SAS=3.14*self.Radius*(math.sqrt((self.Radius*self.Radius)+(self.Height*self.Height)))\n",
    "                print(\"\\nSurface area of side of cone is\",SAS,\"units.\")\n",
    "            else:\n",
    "                SAT=(3.14*self.Radius*self.Radius)+(3.14*self.Radius*(math.sqrt((self.Radius*self.Radius)+(self.Height*self.Height))))\n",
    "                print(\"\\nTotal surface area of cone is\",SAT,\"units.\")"
   ]
  },
  {
   "cell_type": "code",
   "execution_count": 86,
   "metadata": {},
   "outputs": [],
   "source": [
    "cones=cone(15,10)"
   ]
  },
  {
   "cell_type": "code",
   "execution_count": 87,
   "metadata": {},
   "outputs": [
    {
     "name": "stdout",
     "output_type": "stream",
     "text": [
      "\n",
      "Volume of cone is 2355.0 units.\n"
     ]
    }
   ],
   "source": [
    "cones.volume()"
   ]
  },
  {
   "cell_type": "code",
   "execution_count": 99,
   "metadata": {},
   "outputs": [
    {
     "name": "stdout",
     "output_type": "stream",
     "text": [
      "Which Surface area do you want? \n",
      "1. Base \n",
      "2. Side \n",
      "3. Total \n",
      "Enter 1, 2 or 3 - 3\n",
      "\n",
      "Total surface area of cone is 1555.6073253717695 units.\n"
     ]
    }
   ],
   "source": [
    "cones.surfacearea()"
   ]
  },
  {
   "cell_type": "code",
   "execution_count": null,
   "metadata": {},
   "outputs": [],
   "source": []
  }
 ],
 "metadata": {
  "kernelspec": {
   "display_name": "Python 3",
   "language": "python",
   "name": "python3"
  },
  "language_info": {
   "codemirror_mode": {
    "name": "ipython",
    "version": 3
   },
   "file_extension": ".py",
   "mimetype": "text/x-python",
   "name": "python",
   "nbconvert_exporter": "python",
   "pygments_lexer": "ipython3",
   "version": "3.8.3"
  }
 },
 "nbformat": 4,
 "nbformat_minor": 4
}
