{
 "cells": [
  {
   "cell_type": "markdown",
   "metadata": {},
   "source": [
    "# Question 1\n",
    "Write a program to identify sub list [1,1,5] is there in the given list in the same order, if yes print\n",
    "“it’s a Match” if no then print “it’s Gone” in function."
   ]
  },
  {
   "cell_type": "code",
   "execution_count": 1,
   "metadata": {},
   "outputs": [
    {
     "name": "stdout",
     "output_type": "stream",
     "text": [
      "Enter No. of elements in list 6\n",
      "Enter elements of list in sequence 1\n",
      "Enter elements of list in sequence 2\n",
      "Enter elements of list in sequence 1\n",
      "Enter elements of list in sequence 3\n",
      "Enter elements of list in sequence 4\n",
      "Enter elements of list in sequence 5\n",
      "\n",
      "Original List  [1, 2, 1, 3, 4, 5]\n",
      "\n",
      "List to check  [1, 1, 5]\n",
      "\n",
      "It's a Match\n"
     ]
    }
   ],
   "source": [
    "n = int(input(\"Enter No. of elements in list \"))\n",
    "lst=[]\n",
    "\n",
    "for i in range(n):\n",
    "    lst.append(int(input(\"Enter elements of list in sequence \")))\n",
    "    \n",
    "sub= [1,1,5]\n",
    "\n",
    "print(\"\\nOriginal List \",lst)\n",
    "print(\"\\nList to check \",sub)\n",
    "\n",
    "count,j = 0,0\n",
    "\n",
    "for i in sub:\n",
    "    while j<len(lst):\n",
    "        if lst[j]==i:\n",
    "            j+=1\n",
    "            count+=1\n",
    "            break\n",
    "        j+=1\n",
    "        \n",
    "if count==len(sub):\n",
    "    print(\"\\nIt's a Match\")\n",
    "else:\n",
    "    print(\"\\nIt's Gone\")"
   ]
  }
 ],
 "metadata": {
  "kernelspec": {
   "display_name": "Python 3",
   "language": "python",
   "name": "python3"
  },
  "language_info": {
   "codemirror_mode": {
    "name": "ipython",
    "version": 3
   },
   "file_extension": ".py",
   "mimetype": "text/x-python",
   "name": "python",
   "nbconvert_exporter": "python",
   "pygments_lexer": "ipython3",
   "version": "3.8.3"
  }
 },
 "nbformat": 4,
 "nbformat_minor": 4
}
