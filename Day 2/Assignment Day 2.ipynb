{
 "cells": [
  {
   "attachments": {},
   "cell_type": "markdown",
   "metadata": {},
   "source": [
    "# Question 1\n",
    "List and its default functions"
   ]
  },
  {
   "cell_type": "markdown",
   "metadata": {},
   "source": [
    "List: List is a Container which can hold different data types in it. It is a complex data type which is derived from LIST             Object. List elements are always stored in orderd sequence of number starting from  0.\n",
    "\n",
    "Default Functions:\n",
    "    1. len(): It returns the number of items in the list.\n",
    "    2. list(): It returns a mutable sequence list of elements. If no argument is supplied, an empty list is returned.\n",
    "    3. max(): It returns the largest item in an iterable or the largest of two or more arguments\n",
    "    4. min(): It returns the smallest item in an iterable or the largest of two or more arguments\n",
    "    5. range(): It can be used along with list() to return a list of items between a given range."
   ]
  },
  {
   "cell_type": "markdown",
   "metadata": {},
   "source": [
    "# Questions 2\n",
    "Dictionary and its default functions"
   ]
  },
  {
   "cell_type": "markdown",
   "metadata": {},
   "source": [
    "Dictionary: This is a KEY Value pair data strcutre, it is complex. It is an object of DICT class in Python.\n",
    "    \n",
    "Default Functions:\n",
    "    1. all(): Returns True of all keys of divtionary are true (or dictionary is empty)\n",
    "    2. any(): Returns True if any key of dictionary is True. If dictionary is empty returns False\n",
    "    3. len(): Return the length (the no of items) in the dictionary\n",
    "    4. cmp(): Compares items of 2 dictionaries ( not available in Python 3)\n",
    "    5. sorted(): Return a new sorted list of keys in dictionary"
   ]
  },
  {
   "cell_type": "markdown",
   "metadata": {},
   "source": [
    "# Question 3\n",
    "Sets and its default functions"
   ]
  },
  {
   "cell_type": "markdown",
   "metadata": {},
   "source": [
    "Set: Sets are used for storing uniqune values in the Python. Sets are complex data struct. Sets are a Class in Python, whose          object can be derived.\n",
    "\n",
    "Default Functions:\n",
    "    1. enumerate(): Returns an enumerate object. It contains the index and value for all the items of the set as a pair.\n",
    "    2. len(): Returns the length (the number of items) in the set.\n",
    "    3. max(): Returns the largest item in the set.\n",
    "    4. min(): Returns the smallest item in the set.\n",
    "    5. sum(): Returns the sum of all elements in the set."
   ]
  },
  {
   "cell_type": "markdown",
   "metadata": {},
   "source": [
    "# Question 4\n",
    "Tuple and explore default methods"
   ]
  },
  {
   "cell_type": "markdown",
   "metadata": {},
   "source": [
    "Tuple: Tuples are ordered immuatable collection of objects. Once the data is written its in that for ever, it cant be changed.\n",
    "\n",
    "Default Methods:\n",
    "    1. count(): It returns the number of times a value occurs in a tuple\n",
    "    2. index(): It returns the first index at which a value occurs"
   ]
  },
  {
   "cell_type": "markdown",
   "metadata": {},
   "source": [
    "# Question 5\n",
    "Strings and explore default methods"
   ]
  },
  {
   "cell_type": "markdown",
   "metadata": {},
   "source": [
    "String: A string in Python is a sequence of characters. It is a derived data type.\n",
    "\n",
    "Default Methods:\n",
    "    1. capitalize(): It converts first character to Capital Letter\n",
    "    2. casefold(): It converts to case folded strings\n",
    "    3. count(): It returns occurrences of substring in string\n",
    "    4. encode(): It returns encoded string of given string\n",
    "    5. islower(): It checks if all Alphabets in a String are Lowercase"
   ]
  }
 ],
 "metadata": {
  "kernelspec": {
   "display_name": "Python 3",
   "language": "python",
   "name": "python3"
  },
  "language_info": {
   "codemirror_mode": {
    "name": "ipython",
    "version": 3
   },
   "file_extension": ".py",
   "mimetype": "text/x-python",
   "name": "python",
   "nbconvert_exporter": "python",
   "pygments_lexer": "ipython3",
   "version": "3.8.3"
  }
 },
 "nbformat": 4,
 "nbformat_minor": 4
}
